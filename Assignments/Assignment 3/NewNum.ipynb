{
  "nbformat": 4,
  "nbformat_minor": 0,
  "metadata": {
    "colab": {
      "name": "NewNum.ipynb",
      "provenance": [],
      "collapsed_sections": []
    },
    "kernelspec": {
      "name": "python3",
      "display_name": "Python 3"
    },
    "language_info": {
      "name": "python"
    }
  },
  "cells": [
    {
      "cell_type": "markdown",
      "metadata": {
        "id": "e8JVDbCtxIHd"
      },
      "source": [
        "# SỐ NGUYÊN MỚI\n",
        "\n",
        "## Yêu cầu bài toán:\n",
        "\n",
        "Cho số nguyên dương n có không quá 100 chữ số. Hãy xác định số nguyên lớn nhất m chia hết cho 3 và khác n ở đúng một chữ số..\n",
        "\n",
        "* **Dữ liệu:** Vào từ thiết bị chuẩn gồm một dòng chứa số nguyên n có không quá 100 chữ số và không chứa các số 0 không có nghĩa.
\n",
        "\n",
        "* **Kết quả:** Đưa ra thiết bị xuất chuẩn số nguyên m tìm được.\n",
        "\n",
        "* **Ví dụ:**\n",
        "\n",
        "| Inout | Output |\n",
        "|-------|--------|\n",
        "| 123   | 723    |\n",
        "\n",
        "## Phân tích bài toán:\n",
        "\n",
        "* **1. Pattern Recognition:** \n",
        "Áp dụng thuật toán Tham lam (Greedy approach)\n",
        "* **2. Algorithm designed:**\n",
        "\n",
        "**Pseudocode:**\n",
        "\n",
        "```[python3x]\n",
        "Given an interger n\n",
        "Set n_str = string(n)\n",
        "Set k = 3 - n % 3\n",
        "Set i = 0\n",
        "WHILE LOOP:\n",
        "\tIF int(n[i]) + 3 + k <= 9 (Check if we can change the i-th place to meet the condition - the highest number divisible by 3. This condition is the same at the one below but this can jump to the target a little bit fast)\n",
        "\tTHEN\n",
        "\t\tSet n_str[i] = n_str[i] + 3\n",
        "\t\tSet n = int(n_str)\n",
        "\t\tContinue\n",
        "\tIF int(n[i]) + 3 + k <= 9:\n",
        "\tTHEN\n",
        "\t\tSet n_str[i] = str(int(n_str[i] + k))\n",
        "\t\tSet n = int(n_str):\n",
        "\t\tReturn n\n",
        "\n",
        "\tSet i = i + 1 (Increase i to go to next place value because we can't change anything at i-th place)\n",
        "```\n",
        "* **4. Complexity:**\n",
        "O(k) với k là số chữ số của n\n"
      ]
    },
    {
      "cell_type": "code",
      "metadata": {
        "id": "VqQ4VoVCxVkS"
      },
      "source": [
        "n_str = input()",
        "n = int(n_str)",
        "k = 3 - n%3",
        "i = 0",
        "length = len(n_str)",
        "try:",
        "    while True:",
        "         if int(n_str[i]) + 3 + k <= 9:",
        "            n_str = n_str[0:i]  + str(int(n_str[i]) + 3) + n_str[i+1:]",
        "            continue",
        "        if int(n_str[i]) + k <= 9:",
        "            n_str = n_str[0:i]  + str(int(n_str[i]) + k) + n_str[i+1:]",
        "            break",
        "        i = i+1",
        "    print(n_str)",
        "except:",
        "    if k < 3:",
        "        k = 3 - k",
        "    print(n_str[0:length-1] + str(int(n_str[length -1]) - k ))",
      ],
      "execution_count": null,
      "outputs": []
    }
  ]
}
