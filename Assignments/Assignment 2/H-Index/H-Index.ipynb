{
 "cells": [
  {
   "cell_type": "markdown",
   "id": "expected-clinic",
   "metadata": {},
   "source": [
    "# H_index\n",
    "\n",
    "## Yêu cầu bài toán:\n",
    "\n",
    "Làm thế nào để đánh giá sự thành công của một nhà khoa học?  Dựa vào số bài báo được công bố hay dựa vào số lần một bài báo được trích dẫn tới ở công trình của những người khác? Cả hai tham số đó đều quan trọng.\n",
    "\n",
    "Một bài báo có điểm số trích dẫn là c nếu nó được trích dẫn tới c lần trong các công trình của những nhà khoa học khác. Một trong số các cách đánh giá sự thành công của một nhà khoa học là tính chỉ số ảnh hưởng H_Index dựa trên sự kết hợp giữa số lượng bài báo và chỉ số trích dẫn của các bài báo đó.\n",
    "\n",
    "Chỉ số H_Indexcủa một nhà khoa học bằng k lớn nhất nếu người đó có k bài báo, mỗi bài có điểm số trích dẫn không nhỏ hơn k. Ví dụ, một người có 10 bài báo, mỗi bài báo được trích dẫn không dưới 10 lần thì H_Index của người đó ít nhất là bằng 10.\n",
    "\n",
    "Một người có n bài báo, bài báo thứ i có điểm trích dẫn là ci, i = 1 ÷ n. Hãy xác định H_Index của người đó.\n",
    "\n",
    "**Dữ liệu:** Vào từ thiết bị nhập chuẩn:\n",
    "\n",
    "* Dòng đầu tiên chứa một số nguyên n (1 ≤ n ≤ 5×105),\n",
    "* Dòng thứ 2 chứa n số nguyên c1, c2, . . ., cn (0 ≤ ci ≤ 106, i = 1 ÷ n).\n",
    "\n",
    "**Kết quả:** Đưa ra thiết bị xuất chuẩn một số nguyên – H_Index tìm được.\n",
    "\n",
    "**Ví dụ:**\n",
    "\n",
    "| Input    | Output |\n",
    "|----------|--------|\n",
    "|5         | 4      |\n",
    "|8 5 3 4 10|        |\n",
    "\n",
    "## Phân tích bài toán:\n",
    "\n",
    "* **1. Abstraction:** \n",
    "Cho mảng n phần tử, tìm số k lớn nhất sao cho k phần tử trong mảng lớn hơn hoặc bằng k.\n",
    "* **2. Pattern Recognition:**\n",
    "\n",
    "        Kĩ thuật được áp dụng : Vét cạn.\n",
    "        Đặc điểm nhận dạng : Cần duyệt tất cả phần tử trong mảng.\n",
    "\n",
    "* **3. Algorithm designed:**\n",
    "\n",
    "**Pseudo Code(Mã giả):**\n",
    "\n",
    "```[python3]\n",
    "Given array paper[n]\n",
    "Sort paper[] descending\n",
    "Set H_index = 0\n",
    "WHILE LOOP:\n",
    "        Break when H_index = n\n",
    "        IF paper[H_index] <= H_index THEN : Break (Check if the H_index-th element is bigger than H_index or not)\n",
    "        Increament H_index by 1\n",
    "        \n",
    "Return H_index\n",
    "```\n",
    "* **4. Complexity:**\n",
    "O(n)\n",
    "\n",
    "        \n"
   ]
  },
  {
   "cell_type": "code",
   "execution_count": 4,
   "id": "second-heater",
   "metadata": {},
   "outputs": [
    {
     "name": "stdout",
     "output_type": "stream",
     "text": [
      "5\n",
      "8 5 3 4 10\n",
      "4\n"
     ]
    }
   ],
   "source": [
    "n = int(input())\n",
    "paper = list(map(int, input().split()))\n",
    "paper.sort(reverse = True)\n",
    "H_index = 0\n",
    "while H_index < n:\n",
    "    if paper[H_index] <= H_index:\n",
    "        break\n",
    "    H_index += 1\n",
    "print(H_index)"
   ]
  }
 ],
 "metadata": {
  "kernelspec": {
   "display_name": "Python 3",
   "language": "python",
   "name": "python3"
  },
  "language_info": {
   "codemirror_mode": {
    "name": "ipython",
    "version": 3
   },
   "file_extension": ".py",
   "mimetype": "text/x-python",
   "name": "python",
   "nbconvert_exporter": "python",
   "pygments_lexer": "ipython3",
   "version": "3.8.5"
  }
 },
 "nbformat": 4,
 "nbformat_minor": 5
}
